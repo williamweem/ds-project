{
 "cells": [
  {
   "cell_type": "markdown",
   "metadata": {},
   "source": [
    "### Import package"
   ]
  },
  {
   "cell_type": "code",
   "execution_count": null,
   "metadata": {},
   "outputs": [],
   "source": [
    "import pandas as pd\n",
    "import numpy as np\n",
    "import matplotlib.pyplot as plt\n",
    "import seaborn as sns\n",
    "from matplotlib import rcParams, cycler\n",
    "import re\n",
    "from datetime import datetime as dt"
   ]
  },
  {
   "cell_type": "markdown",
   "metadata": {},
   "source": [
    "### Setting package pandas dan numpy"
   ]
  },
  {
   "cell_type": "code",
   "execution_count": null,
   "metadata": {},
   "outputs": [],
   "source": [
    "pd.set_option('display.max_columns', None)\n",
    "pd.set_option('display.max_rows', 10000)\n",
    "pd.options.display.float_format = \"{:.2f}\".format\n",
    "\n",
    "np.set_printoptions(threshold=np.inf)"
   ]
  },
  {
   "cell_type": "markdown",
   "metadata": {},
   "source": [
    "### Setting package matplotlib"
   ]
  },
  {
   "cell_type": "code",
   "execution_count": null,
   "metadata": {},
   "outputs": [],
   "source": [
    "rcParams[\"figure.figsize\"] = 16,8\n",
    "rcParams[\"axes.spines.top\"] = False\n",
    "rcParams[\"axes.spines.right\"] = False\n",
    "rcParams[\"axes.titlesize\"] = \"xx-large\"\n",
    "rcParams[\"axes.labelsize\"] = \"xx-large\"\n",
    "rcParams[\"axes.formatter.useoffset\"] = False\n",
    "rcParams[\"lines.linewidth\"] = 2.5\n",
    "rcParams[\"xtick.labelsize\"] = \"large\"\n",
    "rcParams[\"ytick.labelsize\"] = \"large\"\n",
    "rcParams[\"legend.fontsize\"] = \"xx-large\"\n",
    "rcParams[\"legend.handlelength\"] = 3\n",
    "rcParams[\"legend.title_fontsize\"] = \"xx-large\"\n",
    "plt.style.use(\"seaborn-white\")"
   ]
  },
  {
   "cell_type": "markdown",
   "metadata": {},
   "source": [
    "### Import dataset"
   ]
  },
  {
   "cell_type": "code",
   "execution_count": null,
   "metadata": {},
   "outputs": [],
   "source": [
    "ori1 = pd.read_csv(\"1. Data penjualan Sept 2018.csv\", thousands=r',')\n",
    "ori2 = pd.read_csv(\"2. Data penjualan Okt 2018.csv\", thousands=r',')\n",
    "ori3 = pd.read_csv(\"3. Data penjualan Nop 2018.csv\", thousands=r',')\n",
    "ori4 = pd.read_csv(\"4. Data penjualan Des 2018.csv\", thousands=r',')\n",
    "ori5 = pd.read_csv(\"5. Data penjualan Jan 2019.csv\", thousands=r',')\n",
    "ori6 = pd.read_csv(\"6. Data penjualan Feb 2019.csv\", thousands=r',')\n",
    "ori7 = pd.read_csv(\"7. Data penjualan Mar 2019.csv\", thousands=r',')\n",
    "ori8 = pd.read_csv(\"8. Data penjualan Apr 2019.csv\", thousands=r',')\n",
    "ori9 = pd.read_csv(\"9. Data penjualan Mei 2019.csv\", thousands=r',')\n",
    "ori10 = pd.read_csv(\"10. Data penjualan Jun 2019.csv\", thousands=r',')\n",
    "ori11 = pd.read_csv(\"11. Data penjualan Jul 2019.csv\", thousands=r',')\n",
    "ori12 = pd.read_csv(\"12. Data penjualan Ags 2019.csv\", thousands=r',')\n",
    "\n",
    "df = pd.concat([ori1,ori2,ori3,ori4,ori5,ori6,ori7,ori8,ori9,ori10,ori11,ori12],axis=0)\n",
    "df = df.rename(columns={'Kategori':'Kategori Pelanggan','Kategori.1':'Kategori Produk'})\n",
    "del ori1, ori2, ori3, ori4, ori5, ori6, ori7, ori8, ori9, ori10, ori11, ori12"
   ]
  },
  {
   "cell_type": "markdown",
   "metadata": {},
   "source": [
    "### Eksplorasi data secara umum"
   ]
  },
  {
   "cell_type": "markdown",
   "metadata": {},
   "source": [
    "Memeriksa bentuk df, deskripsi statistik umum df"
   ]
  },
  {
   "cell_type": "code",
   "execution_count": null,
   "metadata": {},
   "outputs": [],
   "source": [
    "df.head()"
   ]
  },
  {
   "cell_type": "code",
   "execution_count": null,
   "metadata": {},
   "outputs": [],
   "source": [
    "df.shape"
   ]
  },
  {
   "cell_type": "code",
   "execution_count": null,
   "metadata": {},
   "outputs": [],
   "source": [
    "df.describe()"
   ]
  },
  {
   "cell_type": "code",
   "execution_count": null,
   "metadata": {},
   "outputs": [],
   "source": [
    "df.describe(include=['object'])"
   ]
  },
  {
   "cell_type": "markdown",
   "metadata": {},
   "source": [
    "Memeriksa missing data dalam df serta melakukan visualisasi missing data"
   ]
  },
  {
   "cell_type": "markdown",
   "metadata": {},
   "source": [
    "df_missing_data = pd.DataFrame(df.isnull().sum())\n",
    "df_missing_data = df_missing_data.reset_index()\n",
    "df_missing_data.columns = [\"Kolom\",\"Jumlah Missing Data\"]\n",
    "df_missing_data[\"Persentase Missing Data\"] = df_missing_data[\"Jumlah Missing Data\"]*100/len(df)\n",
    "df_missing_data"
   ]
  },
  {
   "cell_type": "code",
   "execution_count": null,
   "metadata": {},
   "outputs": [],
   "source": [
    "plt.bar(x=df.columns,height=df.isnull().sum()/len(df))\n",
    "plt.title(\"Persentase Missing Data\", pad = 50)\n",
    "plt.ylabel(\"Persentase\", labelpad=20)\n",
    "plt.xlabel(\"Kolom\")\n",
    "plt.xticks(rotation=90)\n",
    "plt.yticks()\n",
    "\n",
    "for i, v in enumerate(df.isnull().sum()/len(df)):\n",
    "    plt.text(i-0.35, v+0.02, '{:.0f}%'.format(100*v), color='black')"
   ]
  },
  {
   "cell_type": "code",
   "execution_count": null,
   "metadata": {},
   "outputs": [],
   "source": [
    "del df_missing_data"
   ]
  },
  {
   "cell_type": "markdown",
   "metadata": {},
   "source": [
    "### Pemeriksaan kolom per kolom"
   ]
  },
  {
   "cell_type": "markdown",
   "metadata": {},
   "source": [
    "Memeriksa apakah kode pelanggan dan nama pelanggan berpasangan 1 ke 1<br>\n",
    "Kesimpulan : Sudah benar"
   ]
  },
  {
   "cell_type": "code",
   "execution_count": null,
   "metadata": {},
   "outputs": [],
   "source": [
    "kode_pelanggan_dobel = df[[\"Kode Pelanggan\",\"Nama Pelanggan\"]].drop_duplicates()"
   ]
  },
  {
   "cell_type": "code",
   "execution_count": null,
   "metadata": {},
   "outputs": [],
   "source": [
    "kode_pelanggan_dobel[kode_pelanggan_dobel[\"Kode Pelanggan\"].duplicated(keep=False)]"
   ]
  },
  {
   "cell_type": "code",
   "execution_count": null,
   "metadata": {},
   "outputs": [],
   "source": [
    "kode_pelanggan_dobel[kode_pelanggan_dobel[\"Nama Pelanggan\"].duplicated(keep=False)]"
   ]
  },
  {
   "cell_type": "code",
   "execution_count": null,
   "metadata": {},
   "outputs": [],
   "source": [
    "del kode_pelanggan_dobel"
   ]
  },
  {
   "cell_type": "markdown",
   "metadata": {},
   "source": [
    "Memeriksa apakah kode produk dan nama produk berpasangan 1 ke 1 <br>\n",
    "Kesimpulan : Ada typo di 2 produk, yaitu PERLAK POLOS WRN BR (PERMTR) dan PERLAK POLOS WRN PTH (PERMTR)"
   ]
  },
  {
   "cell_type": "code",
   "execution_count": null,
   "metadata": {},
   "outputs": [],
   "source": [
    "kode_produk_dobel = df[[\"Kode Produk\",\"Nama Produk\"]].drop_duplicates()"
   ]
  },
  {
   "cell_type": "code",
   "execution_count": null,
   "metadata": {},
   "outputs": [],
   "source": [
    "kode_produk_dobel[kode_produk_dobel[\"Nama Produk\"].duplicated(keep=False)]"
   ]
  },
  {
   "cell_type": "code",
   "execution_count": null,
   "metadata": {},
   "outputs": [],
   "source": [
    "kode_produk_dobel[kode_produk_dobel[\"Kode Produk\"].duplicated(keep=False)]"
   ]
  },
  {
   "cell_type": "code",
   "execution_count": null,
   "metadata": {},
   "outputs": [],
   "source": [
    "del kode_produk_dobel"
   ]
  },
  {
   "cell_type": "markdown",
   "metadata": {},
   "source": [
    "Melihat kontribusi setiap pabrik"
   ]
  },
  {
   "cell_type": "code",
   "execution_count": null,
   "metadata": {
    "scrolled": true
   },
   "outputs": [],
   "source": [
    "df[\"Pabrik\"] = df[\"Pabrik\"].fillna(-1)\n",
    "df_pabrik = df.groupby(\"Pabrik\")[\"DPP\"].sum().sort_values(ascending=False)\n",
    "df_pabrik = pd.DataFrame(df_pabrik).reset_index()\n",
    "df_pabrik['Persentase DPP'] = df_pabrik[\"DPP\"]/df[\"DPP\"].sum()\n",
    "df_pabrik[\"DPP Kumulatif\"] = df_pabrik[\"DPP\"].cumsum()/df_pabrik[\"DPP\"].sum()*100\n",
    "df_pabrik"
   ]
  },
  {
   "cell_type": "code",
   "execution_count": null,
   "metadata": {},
   "outputs": [],
   "source": [
    "del df_pabrik"
   ]
  },
  {
   "cell_type": "markdown",
   "metadata": {},
   "source": [
    "Melakukan drop terhadap berbagai kolom dengan alasan sebagai berikut: <br>\n",
    "1. Kode Pelanggan, Kode Produk, dan No.Bukti memiliki informasi yang sama persis dengan Nama Pelanggan, Nama Produk, dan Kode Transaksi <br>\n",
    "    sehingga Kode Pelanggan, Kode Produk, dan No.Bukti dibuang. <br><br>\n",
    "    PS: Sebenarnya beberapa kode pelanggan memiliki beberapa informasi menarik, misalnya huruf EXP, nomor telepon,<br>\n",
    "    dan Kartu Hilang. Namun karena tak ada data dictionary yang jelas mengenai alasan serta implikasi kode tersebut, <br>\n",
    "    maka kode tersebut diabaikan <br><br>\n",
    "2. Unit dan Gudang dianggap tak mengandung informasi yang berarti, maka dibuang <br><br>\n",
    "3. Kode Pos, Kota, No.Faktur Pajak, Jatuh Tempo, No.Pesanan, No.Konsinyasi, No.Peminjaman memiliki terlalu banyak missing data, maka dibuang <br><br>\n",
    "4. Informasi Harga Netto dan Subtotal sudah tersimpan dalam variabel lain, yaitu Qty, Harga Bruto, Diskon, dan DPP, maka dibuang <br><br>\n",
    "5. Pajak, Kode Pajak, dan DPP+Pajak tidak menghasilkan keuntungan untuk perusahaan, maka diabaikan dari analisis <br><br>\n",
    "6. Analis tak tertarik dalam mengukur performa salesman dan operator, maka keduanya diabaikan dari analisis <br><br>"
   ]
  },
  {
   "cell_type": "markdown",
   "metadata": {},
   "source": [
    "Selain itu, perlu juga mengubah kolom tanggal menjadi bentuk data baru yaitu date"
   ]
  },
  {
   "cell_type": "code",
   "execution_count": null,
   "metadata": {},
   "outputs": [],
   "source": [
    "df = df.drop([\"Harga Netto\",\"Gudang\",\"Subtotal\",\"Kode Pelanggan\",\"No.Bukti\",\"Kode Produk\",\"Unit\",\"Kode Pajak\", \"Pajak\", \"DPP+Pajak\",\"Nama Salesman\",\"Operator\",\"Kode Pos\",\"Kota\",\"No.Faktur Pajak\",\"Jatuh Tempo\",\"No.Pesanan\",\"No.Konsinyasi\",\"No.Peminjaman\"],axis=1)\n",
    "df['Tanggal'] = df['Tanggal'].apply(lambda x: dt.strptime(x, '%d-%m-%Y'))"
   ]
  },
  {
   "cell_type": "markdown",
   "metadata": {},
   "source": [
    "Melihat transaksi dengan diskon, namun diskonnya tak 100%"
   ]
  },
  {
   "cell_type": "code",
   "execution_count": null,
   "metadata": {},
   "outputs": [],
   "source": [
    "df[(df[\"Diskon\"]>0) & (df[\"Diskon\"] != df[\"Harga Bruto\"])]"
   ]
  },
  {
   "cell_type": "markdown",
   "metadata": {},
   "source": [
    "### Membuang kolom yang tak diinginkan"
   ]
  },
  {
   "cell_type": "markdown",
   "metadata": {},
   "source": [
    "Membuang produk yang harganya dibawah atau sama dengan Rp 2, yaitu tas plastik"
   ]
  },
  {
   "cell_type": "code",
   "execution_count": null,
   "metadata": {},
   "outputs": [],
   "source": [
    "df[df[\"Harga Bruto\"]<=2][\"Nama Produk\"]"
   ]
  },
  {
   "cell_type": "markdown",
   "metadata": {},
   "source": [
    "Beberapa transaksi memiliki diskon 100%, sehingga pelanggan membayar 0 Rp. Transaksi ini lebih baik dihilangkan"
   ]
  },
  {
   "cell_type": "code",
   "execution_count": null,
   "metadata": {},
   "outputs": [],
   "source": [
    "df[df[\"Diskon\"] == df[\"Harga Bruto\"]]"
   ]
  },
  {
   "cell_type": "markdown",
   "metadata": {},
   "source": [
    "Eksekusi pembuangan kolom"
   ]
  },
  {
   "cell_type": "code",
   "execution_count": null,
   "metadata": {},
   "outputs": [],
   "source": [
    "df = df[df[\"Harga Bruto\"]>2]\n",
    "df = df[df[\"Diskon\"] != df[\"Harga Bruto\"]]"
   ]
  },
  {
   "cell_type": "markdown",
   "metadata": {},
   "source": [
    "### Analisis pendapatan, pelanggan, kategori pelanggan"
   ]
  },
  {
   "cell_type": "markdown",
   "metadata": {},
   "source": [
    "Memeriksa tren pendapatan toko Manohara per bulannya"
   ]
  },
  {
   "cell_type": "code",
   "execution_count": null,
   "metadata": {},
   "outputs": [],
   "source": [
    "df.head()"
   ]
  },
  {
   "cell_type": "code",
   "execution_count": null,
   "metadata": {},
   "outputs": [],
   "source": [
    "tren_DPP = df.groupby(['Tanggal'])['DPP'].sum()\n",
    "tren_DPP = tren_DPP.resample('M').sum()\n",
    "tren_DPP = tren_DPP.reset_index()\n",
    "tren_DPP = tren_DPP.set_index(\"Tanggal\")\n",
    "tren_DPP"
   ]
  },
  {
   "cell_type": "code",
   "execution_count": null,
   "metadata": {},
   "outputs": [],
   "source": [
    "tren_DPP.plot()"
   ]
  },
  {
   "cell_type": "markdown",
   "metadata": {},
   "source": [
    "Memeriksa Nama Pelanggan yang tidak terdiri dari angka <br>\n",
    "Kesimpulan: Terdapat beberapa nama pelanggan yang aneh, seperti GROSIR, HOTEL RESTO, UMUM, LANGGANAN"
   ]
  },
  {
   "cell_type": "code",
   "execution_count": null,
   "metadata": {},
   "outputs": [],
   "source": [
    "ada_huruf = re.compile('[a-zA-Z]')\n",
    "fungsi_ada_huruf = np.vectorize(lambda x:bool(ada_huruf.match(x)))\n",
    "\n",
    "df[\"Nama Pelanggan\"].unique()[fungsi_ada_huruf(df[\"Nama Pelanggan\"].unique())]"
   ]
  },
  {
   "cell_type": "markdown",
   "metadata": {},
   "source": [
    "Ada pula nama pelanggan yang terdiri dari angka"
   ]
  },
  {
   "cell_type": "code",
   "execution_count": null,
   "metadata": {
    "scrolled": true
   },
   "outputs": [],
   "source": [
    "df[df[\"Nama Pelanggan\"].str.match('[^a-zA-Z]')]"
   ]
  },
  {
   "cell_type": "markdown",
   "metadata": {},
   "source": [
    "Memeriksa nama pelanggan yang memiliki nama persis dengan kategori pelanggan"
   ]
  },
  {
   "cell_type": "code",
   "execution_count": null,
   "metadata": {},
   "outputs": [],
   "source": [
    "df[df[\"Nama Pelanggan\"]==\"UMUM\"]"
   ]
  },
  {
   "cell_type": "code",
   "execution_count": null,
   "metadata": {},
   "outputs": [],
   "source": [
    "df[(df[\"Kategori Pelanggan\"]==\"HTRSTO\") & (df[\"Nama Pelanggan\"]==\"HOTEL RESTO\")]"
   ]
  },
  {
   "cell_type": "code",
   "execution_count": null,
   "metadata": {},
   "outputs": [],
   "source": [
    "df[(df[\"Kategori Pelanggan\"]==\"LGGN\") & (df[\"Nama Pelanggan\"]==\"LANGGANAN\")]"
   ]
  },
  {
   "cell_type": "code",
   "execution_count": null,
   "metadata": {},
   "outputs": [],
   "source": [
    "df[(df[\"Kategori Pelanggan\"]==\"GRO\") & (df[\"Nama Pelanggan\"]==\"GROSIR\")]"
   ]
  },
  {
   "cell_type": "markdown",
   "metadata": {},
   "source": [
    "Membandingkan kontribusi setiap kategori pelanggan"
   ]
  },
  {
   "cell_type": "code",
   "execution_count": null,
   "metadata": {},
   "outputs": [],
   "source": [
    "kategori_pelanggan = pd.DataFrame(df.groupby(\"Kategori Pelanggan\")[\"DPP\"].sum())\n",
    "lala = pd.DataFrame(df.groupby(\"Kategori Pelanggan\")[\"No.Transaksi\"].nunique())\n",
    "lala.reset_index(level=0, inplace=True)\n",
    "kategori_pelanggan = pd.merge(kategori_pelanggan,lala, on='Kategori Pelanggan', how='left')\n",
    "del lala\n",
    "kategori_pelanggan[\"Revenue/Order\"] = kategori_pelanggan[\"DPP\"]/kategori_pelanggan[\"No.Transaksi\"]\n",
    "kategori_pelanggan[\"Persentase DPP\"]= kategori_pelanggan[\"DPP\"]/kategori_pelanggan[\"DPP\"].sum()\n",
    "kategori_pelanggan[\"Persentase Transaksi\"]= kategori_pelanggan[\"No.Transaksi\"]/kategori_pelanggan[\"No.Transaksi\"].sum()\n",
    "kategori_pelanggan = kategori_pelanggan[['Kategori Pelanggan', 'DPP', 'Persentase DPP', 'No.Transaksi', 'Persentase Transaksi','Revenue/Order']]\n",
    "kategori_pelanggan"
   ]
  },
  {
   "cell_type": "markdown",
   "metadata": {},
   "source": [
    "Membandingkan dan visualisasi tren kontribusi setiap kategori pelanggan"
   ]
  },
  {
   "cell_type": "code",
   "execution_count": null,
   "metadata": {},
   "outputs": [],
   "source": [
    "tren_kategori_pelanggan = df.groupby(['Tanggal','Kategori Pelanggan'])['DPP'].sum()\n",
    "tren_kategori_pelanggan = pd.DataFrame(tren_kategori_pelanggan)\n",
    "tren_kategori_pelanggan.reset_index(level=['Tanggal','Kategori Pelanggan'], inplace= True)\n",
    "tren_kategori_pelanggan = tren_kategori_pelanggan.pivot(index=\"Tanggal\",columns=\"Kategori Pelanggan\")['DPP']\n",
    "tren_kategori_pelanggan = tren_kategori_pelanggan.resample('M').sum()\n",
    "tren_kategori_pelanggan = tren_kategori_pelanggan.reset_index()\n",
    "tren_kategori_pelanggan = tren_kategori_pelanggan.set_index(\"Tanggal\")\n",
    "tren_kategori_pelanggan"
   ]
  },
  {
   "cell_type": "code",
   "execution_count": null,
   "metadata": {},
   "outputs": [],
   "source": [
    "tren_kategori_pelanggan.plot()\n",
    "plt.ylabel(\"Total DPP\", labelpad=20)"
   ]
  },
  {
   "cell_type": "markdown",
   "metadata": {},
   "source": [
    "Visualisasi distribusi kontribusi pelanggan selama setahun khusus pelanggan grosir, langganan, dan hotel resto"
   ]
  },
  {
   "cell_type": "code",
   "execution_count": null,
   "metadata": {},
   "outputs": [],
   "source": [
    "fig = plt.figure()\n",
    "ax1 = fig.add_subplot(311, title=\"Grosir\")\n",
    "ax2 = fig.add_subplot(312, title=\"Langganan\")\n",
    "ax3 = fig.add_subplot(313, title=\"Hotel / Restoran\")\n",
    "sns.distplot(df[df[\"Kategori Pelanggan\"]==\"GRO\"].groupby('Nama Pelanggan')[[\"DPP\"]].sum().sort_values(by=\"DPP\", ascending = False), norm_hist=False, ax=ax1)\n",
    "sns.distplot(df[df[\"Kategori Pelanggan\"]==\"LGGN\"].groupby('Nama Pelanggan')[[\"DPP\"]].sum().sort_values(by=\"DPP\", ascending = False), norm_hist=False, ax=ax2)\n",
    "sns.distplot(df[df[\"Kategori Pelanggan\"]==\"HTRSTO\"].groupby('Nama Pelanggan')[[\"DPP\"]].sum().sort_values(by=\"DPP\", ascending = False), ax=ax3)\n",
    "plt.tight_layout()"
   ]
  },
  {
   "cell_type": "code",
   "execution_count": null,
   "metadata": {},
   "outputs": [],
   "source": [
    "sns.distplot(df[df[\"Kategori Pelanggan\"]==\"GRO\"].groupby('Nama Pelanggan')[[\"DPP\"]].sum().sort_values(by=\"DPP\", ascending = False), norm_hist=False)"
   ]
  },
  {
   "cell_type": "code",
   "execution_count": null,
   "metadata": {
    "scrolled": false
   },
   "outputs": [],
   "source": [
    "sns.distplot(df[df[\"Kategori Pelanggan\"]==\"LGGN\"].groupby('Nama Pelanggan')[[\"DPP\"]].sum().sort_values(by=\"DPP\", ascending = False), norm_hist=False)"
   ]
  },
  {
   "cell_type": "code",
   "execution_count": null,
   "metadata": {
    "scrolled": true
   },
   "outputs": [],
   "source": [
    "sns.distplot(df[df[\"Kategori Pelanggan\"]==\"HTRSTO\"].groupby('Nama Pelanggan')[[\"DPP\"]].sum().sort_values(by=\"DPP\", ascending = False))"
   ]
  },
  {
   "cell_type": "markdown",
   "metadata": {},
   "source": [
    "### Eksport data untuk tahap berikutnya"
   ]
  },
  {
   "cell_type": "code",
   "execution_count": null,
   "metadata": {
    "scrolled": true
   },
   "outputs": [],
   "source": [
    "df.to_csv('df_bersih.csv', index=False)"
   ]
  }
 ],
 "metadata": {
  "kernelspec": {
   "display_name": "Python 3",
   "language": "python",
   "name": "python3"
  },
  "language_info": {
   "codemirror_mode": {
    "name": "ipython",
    "version": 3
   },
   "file_extension": ".py",
   "mimetype": "text/x-python",
   "name": "python",
   "nbconvert_exporter": "python",
   "pygments_lexer": "ipython3",
   "version": "3.7.3"
  },
  "toc": {
   "base_numbering": 1,
   "nav_menu": {},
   "number_sections": true,
   "sideBar": true,
   "skip_h1_title": false,
   "title_cell": "Table of Contents",
   "title_sidebar": "Contents",
   "toc_cell": false,
   "toc_position": {},
   "toc_section_display": true,
   "toc_window_display": false
  },
  "varInspector": {
   "cols": {
    "lenName": 16,
    "lenType": 16,
    "lenVar": 40
   },
   "kernels_config": {
    "python": {
     "delete_cmd_postfix": "",
     "delete_cmd_prefix": "del ",
     "library": "var_list.py",
     "varRefreshCmd": "print(var_dic_list())"
    },
    "r": {
     "delete_cmd_postfix": ") ",
     "delete_cmd_prefix": "rm(",
     "library": "var_list.r",
     "varRefreshCmd": "cat(var_dic_list()) "
    }
   },
   "oldHeight": 151.333666,
   "position": {
    "height": "40px",
    "left": "968px",
    "right": "20px",
    "top": "82px",
    "width": "250px"
   },
   "types_to_exclude": [
    "module",
    "function",
    "builtin_function_or_method",
    "instance",
    "_Feature"
   ],
   "varInspector_section_display": "none",
   "window_display": true
  }
 },
 "nbformat": 4,
 "nbformat_minor": 2
}

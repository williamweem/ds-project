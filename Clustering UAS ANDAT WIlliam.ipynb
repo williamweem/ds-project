{
 "cells": [
  {
   "cell_type": "markdown",
   "metadata": {},
   "source": [
    "### Import package , data, setting package"
   ]
  },
  {
   "cell_type": "code",
   "execution_count": null,
   "metadata": {},
   "outputs": [],
   "source": [
    "import pandas as pd\n",
    "import numpy as np\n",
    "import matplotlib.pyplot as plt\n",
    "import seaborn as sns\n",
    "from matplotlib import rcParams, cycler\n",
    "from datetime import datetime as dt"
   ]
  },
  {
   "cell_type": "code",
   "execution_count": null,
   "metadata": {},
   "outputs": [],
   "source": [
    "from sklearn.preprocessing import StandardScaler\n",
    "from sklearn.cluster import KMeans\n",
    "from sklearn.manifold import TSNE\n",
    "from mpl_toolkits.mplot3d import Axes3D"
   ]
  },
  {
   "cell_type": "code",
   "execution_count": null,
   "metadata": {},
   "outputs": [],
   "source": [
    "pd.set_option('display.max_columns', None)\n",
    "pd.set_option('display.max_rows', 10000)\n",
    "pd.options.display.float_format = \"{:.2f}\".format\n",
    "\n",
    "np.set_printoptions(threshold=np.inf)"
   ]
  },
  {
   "cell_type": "code",
   "execution_count": null,
   "metadata": {},
   "outputs": [],
   "source": [
    "rcParams[\"figure.figsize\"] = 16,8\n",
    "rcParams[\"axes.spines.top\"] = False\n",
    "rcParams[\"axes.spines.right\"] = False\n",
    "rcParams[\"axes.titlesize\"] = \"xx-large\"\n",
    "rcParams[\"axes.labelsize\"] = \"xx-large\"\n",
    "rcParams[\"axes.formatter.useoffset\"] = False\n",
    "rcParams[\"lines.linewidth\"] = 2.5\n",
    "rcParams[\"xtick.labelsize\"] = \"large\"\n",
    "rcParams[\"ytick.labelsize\"] = \"large\"\n",
    "rcParams[\"legend.fontsize\"] = \"xx-large\"\n",
    "rcParams[\"legend.handlelength\"] = 3\n",
    "rcParams[\"legend.title_fontsize\"] = \"xx-large\"\n",
    "plt.style.use(\"seaborn-white\")"
   ]
  },
  {
   "cell_type": "code",
   "execution_count": null,
   "metadata": {},
   "outputs": [],
   "source": [
    "df = pd.read_csv(\"df_bersih.csv\")\n",
    "df[\"Tanggal\"] = pd.to_datetime(df[\"Tanggal\"])"
   ]
  },
  {
   "cell_type": "markdown",
   "metadata": {},
   "source": [
    "### Pemeriksaan data singkat"
   ]
  },
  {
   "cell_type": "code",
   "execution_count": null,
   "metadata": {},
   "outputs": [],
   "source": [
    "df[\"Kategori Pelanggan\"].unique()"
   ]
  },
  {
   "cell_type": "code",
   "execution_count": null,
   "metadata": {},
   "outputs": [],
   "source": [
    "df.head()"
   ]
  },
  {
   "cell_type": "markdown",
   "metadata": {},
   "source": [
    "### Melihat kontribusi pelanggan per kategori"
   ]
  },
  {
   "cell_type": "code",
   "execution_count": null,
   "metadata": {},
   "outputs": [],
   "source": [
    "lggn = pd.DataFrame(df[df[\"Kategori Pelanggan\"]==\"LGGN\"].groupby(\"Nama Pelanggan\")[\"DPP\"].sum().sort_values(ascending=False))\n",
    "lggn = lggn.reset_index()\n",
    "lggn[\"Persentase DPP\"] = lggn[\"DPP\"]/lggn[\"DPP\"].sum()\n",
    "print(len(lggn))\n",
    "lggn"
   ]
  },
  {
   "cell_type": "code",
   "execution_count": null,
   "metadata": {},
   "outputs": [],
   "source": [
    "gro = pd.DataFrame(df[df[\"Kategori Pelanggan\"]==\"GRO\"].groupby(\"Nama Pelanggan\")[\"DPP\"].sum().sort_values(ascending=False))\n",
    "gro = gro.reset_index()\n",
    "gro[\"Persentase DPP\"] = gro[\"DPP\"]/gro[\"DPP\"].sum()\n",
    "print(len(gro))\n",
    "gro"
   ]
  },
  {
   "cell_type": "code",
   "execution_count": null,
   "metadata": {},
   "outputs": [],
   "source": [
    "htrsto = pd.DataFrame(df[df[\"Kategori Pelanggan\"]==\"HTRSTO\"].groupby(\"Nama Pelanggan\")[\"DPP\"].sum().sort_values(ascending=False))\n",
    "htrsto = htrsto.reset_index()\n",
    "htrsto[\"Persentase DPP\"] = htrsto[\"DPP\"]/htrsto[\"DPP\"].sum()\n",
    "print(len(htrsto))\n",
    "htrsto"
   ]
  },
  {
   "cell_type": "code",
   "execution_count": null,
   "metadata": {},
   "outputs": [],
   "source": [
    "del gro, htrsto, lggn"
   ]
  },
  {
   "cell_type": "markdown",
   "metadata": {},
   "source": [
    "### Proses clustering"
   ]
  },
  {
   "cell_type": "markdown",
   "metadata": {},
   "source": [
    "Persiapan df khusus clustering"
   ]
  },
  {
   "cell_type": "code",
   "execution_count": null,
   "metadata": {},
   "outputs": [],
   "source": [
    "df_user = df.groupby('Nama Pelanggan')[\"Tanggal\"].max().reset_index()\n",
    "df_user.columns = ['Nama Pelanggan','Tanggal Terbaru']\n",
    "df_user['Recency'] = (df_user['Tanggal Terbaru'].max() - df_user['Tanggal Terbaru']).dt.days\n",
    "df_user = df_user.drop(\"Tanggal Terbaru\", axis=1)"
   ]
  },
  {
   "cell_type": "code",
   "execution_count": null,
   "metadata": {},
   "outputs": [],
   "source": [
    "df_frequency = df.groupby('Nama Pelanggan')[\"No.Transaksi\"].count().reset_index()\n",
    "df_frequency.columns = ['Nama Pelanggan','Frequency']\n",
    "df_user = pd.merge(df_user, df_frequency, on='Nama Pelanggan')\n",
    "del df_frequency"
   ]
  },
  {
   "cell_type": "code",
   "execution_count": null,
   "metadata": {},
   "outputs": [],
   "source": [
    "df_mon = df.groupby('Nama Pelanggan')[\"DPP\"].sum().reset_index()\n",
    "df_mon.columns = ['Nama Pelanggan','Monetary']\n",
    "df_user = pd.merge(df_user, df_mon, on='Nama Pelanggan')\n",
    "del df_mon"
   ]
  },
  {
   "cell_type": "code",
   "execution_count": null,
   "metadata": {},
   "outputs": [],
   "source": [
    "nama_aneh=[\"GROSIR\",\"HOTEL RESTOR\",\"LANGGANAN\",\"UMUM\"]\n",
    "df_user = df_user[~df_user['Nama Pelanggan'].isin(nama_aneh)]"
   ]
  },
  {
   "cell_type": "code",
   "execution_count": null,
   "metadata": {},
   "outputs": [],
   "source": [
    "df_user"
   ]
  },
  {
   "cell_type": "code",
   "execution_count": null,
   "metadata": {},
   "outputs": [],
   "source": [
    "df_user_cluster = df_user.iloc[:,[1,2,3]]\n",
    "df_user_cluster"
   ]
  },
  {
   "cell_type": "markdown",
   "metadata": {},
   "source": [
    "Proses Z-score standarisation"
   ]
  },
  {
   "cell_type": "code",
   "execution_count": null,
   "metadata": {},
   "outputs": [],
   "source": [
    "sc = StandardScaler()\n",
    "df_user_cluster = sc.fit_transform(df_user_cluster)\n",
    "df_user_cluster"
   ]
  },
  {
   "cell_type": "code",
   "execution_count": null,
   "metadata": {},
   "outputs": [],
   "source": [
    "fig = plt.figure()\n",
    "ax1 = fig.add_subplot(311, title = \"Recency\")\n",
    "ax2 = fig.add_subplot(312, title = \"Frequency\")\n",
    "ax3 = fig.add_subplot(313, title = \"Monetary\")\n",
    "sns.distplot(df_user_cluster[:,0], ax=ax1)\n",
    "sns.distplot(df_user_cluster[:,1], ax=ax2)\n",
    "sns.distplot(df_user_cluster[:,2], ax=ax3)\n",
    "plt.tight_layout()"
   ]
  },
  {
   "cell_type": "markdown",
   "metadata": {},
   "source": [
    "Elbow method untuk menentukan jumlah cluster optimal <BR>\n",
    "Kesimpulan : 3 cluster"
   ]
  },
  {
   "cell_type": "code",
   "execution_count": null,
   "metadata": {},
   "outputs": [],
   "source": [
    "wcss = []\n",
    "for i in range(1, 11):\n",
    "    kmeans = KMeans(n_clusters = i, init = 'k-means++', random_state = 42)\n",
    "    kmeans.fit(df_user_cluster)\n",
    "    wcss.append(kmeans.inertia_)\n",
    "plt.plot(range(1, 11), wcss)\n",
    "plt.title('The Elbow Method')\n",
    "plt.xlabel('Number of clusters')\n",
    "plt.ylabel('WCSS')\n",
    "plt.show()"
   ]
  },
  {
   "cell_type": "markdown",
   "metadata": {},
   "source": [
    "Ekseskusi clustering dengan 3 cluster"
   ]
  },
  {
   "cell_type": "code",
   "execution_count": null,
   "metadata": {},
   "outputs": [],
   "source": [
    "kmeans = KMeans(n_clusters = 3, init = 'k-means++', random_state = 43)\n",
    "y_kmeans = kmeans.fit_predict(df_user_cluster)"
   ]
  },
  {
   "cell_type": "markdown",
   "metadata": {},
   "source": [
    "Pemeriksaan hasil clustering"
   ]
  },
  {
   "cell_type": "code",
   "execution_count": null,
   "metadata": {},
   "outputs": [],
   "source": [
    "df_user[\"Cluster\"] = y_kmeans\n",
    "df_user[\"Cluster\"].value_counts()"
   ]
  },
  {
   "cell_type": "code",
   "execution_count": null,
   "metadata": {},
   "outputs": [],
   "source": [
    "df_user.groupby(\"Cluster\")[[\"Recency\",\"Frequency\",\"Monetary\"]].mean()"
   ]
  },
  {
   "cell_type": "code",
   "execution_count": null,
   "metadata": {},
   "outputs": [],
   "source": [
    "sns.boxplot(x=\"variable\", y=\"value\", data=pd.melt(pd.DataFrame(df_user_cluster)))\n",
    "\n",
    "plt.show()"
   ]
  },
  {
   "cell_type": "markdown",
   "metadata": {},
   "source": [
    "Visualisasi hasil clustering dengan t-sne dan 3d scatterplot"
   ]
  },
  {
   "cell_type": "code",
   "execution_count": null,
   "metadata": {},
   "outputs": [],
   "source": [
    "df_user_tsne = TSNE(n_components=2).fit_transform(df_user_cluster)"
   ]
  },
  {
   "cell_type": "code",
   "execution_count": null,
   "metadata": {},
   "outputs": [],
   "source": [
    "sns.scatterplot(df_user_tsne[:,0], df_user_tsne[:,1], hue=y_kmeans, legend='full')"
   ]
  },
  {
   "cell_type": "code",
   "execution_count": null,
   "metadata": {},
   "outputs": [],
   "source": [
    "fig = plt.figure(figsize=(20,11))\n",
    "ax = fig.add_subplot(111, projection='3d')\n",
    "ax.scatter(df_user_cluster[:,0], df_user_cluster[:,1], df_user_cluster[:,2], c=y_kmeans, marker='o', cmap=\"jet\")\n",
    "ax.set_xlabel('Recency')\n",
    "ax.set_ylabel('Frequency')\n",
    "ax.set_zlabel('Monetary')\n",
    "\n",
    "\n",
    "plt.show()"
   ]
  },
  {
   "cell_type": "markdown",
   "metadata": {},
   "source": [
    "Hasil akhir cluster"
   ]
  },
  {
   "cell_type": "code",
   "execution_count": null,
   "metadata": {},
   "outputs": [],
   "source": [
    "df_user = pd.merge(df_user,df[[\"Nama Pelanggan\",\"Kategori Pelanggan\"]], how=\"left\", on=\"Nama Pelanggan\")\n",
    "df_user = df_user.drop_duplicates().reset_index()\n",
    "df_user"
   ]
  }
 ],
 "metadata": {
  "kernelspec": {
   "display_name": "Python 3",
   "language": "python",
   "name": "python3"
  },
  "language_info": {
   "codemirror_mode": {
    "name": "ipython",
    "version": 3
   },
   "file_extension": ".py",
   "mimetype": "text/x-python",
   "name": "python",
   "nbconvert_exporter": "python",
   "pygments_lexer": "ipython3",
   "version": "3.7.3"
  },
  "toc": {
   "base_numbering": 1,
   "nav_menu": {},
   "number_sections": true,
   "sideBar": true,
   "skip_h1_title": false,
   "title_cell": "Table of Contents",
   "title_sidebar": "Contents",
   "toc_cell": false,
   "toc_position": {},
   "toc_section_display": true,
   "toc_window_display": false
  },
  "varInspector": {
   "cols": {
    "lenName": 16,
    "lenType": 16,
    "lenVar": 40
   },
   "kernels_config": {
    "python": {
     "delete_cmd_postfix": "",
     "delete_cmd_prefix": "del ",
     "library": "var_list.py",
     "varRefreshCmd": "print(var_dic_list())"
    },
    "r": {
     "delete_cmd_postfix": ") ",
     "delete_cmd_prefix": "rm(",
     "library": "var_list.r",
     "varRefreshCmd": "cat(var_dic_list()) "
    }
   },
   "oldHeight": 122.66666599999999,
   "position": {
    "height": "144.323px",
    "left": "1309.17px",
    "right": "20px",
    "top": "119px",
    "width": "250px"
   },
   "types_to_exclude": [
    "module",
    "function",
    "builtin_function_or_method",
    "instance",
    "_Feature"
   ],
   "varInspector_section_display": "block",
   "window_display": true
  }
 },
 "nbformat": 4,
 "nbformat_minor": 2
}

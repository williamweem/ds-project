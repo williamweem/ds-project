{
 "cells": [
  {
   "cell_type": "markdown",
   "metadata": {},
   "source": [
    "### Import package, setting package, import data"
   ]
  },
  {
   "cell_type": "code",
   "execution_count": 1,
   "metadata": {},
   "outputs": [],
   "source": [
    "import pandas as pd\n",
    "import numpy as np\n",
    "from mlxtend.preprocessing import TransactionEncoder\n",
    "from mlxtend.frequent_patterns import fpgrowth"
   ]
  },
  {
   "cell_type": "code",
   "execution_count": 2,
   "metadata": {},
   "outputs": [],
   "source": [
    "pd.set_option('display.max_columns', None)\n",
    "pd.set_option('display.max_rows', 10000)\n",
    "pd.options.display.float_format = \"{:.2f}\".format\n",
    "\n",
    "np.set_printoptions(threshold=np.inf)"
   ]
  },
  {
   "cell_type": "code",
   "execution_count": 4,
   "metadata": {},
   "outputs": [],
   "source": [
    "df = pd.read_csv(\"df_bersih.csv\")\n",
    "df[\"Tanggal\"] = pd.to_datetime(df[\"Tanggal\"])"
   ]
  },
  {
   "cell_type": "markdown",
   "metadata": {},
   "source": [
    "### Memulai market-basket analysis"
   ]
  },
  {
   "cell_type": "markdown",
   "metadata": {},
   "source": [
    "Mengubah bentuk data frame menjadi kelompok list transaksi"
   ]
  },
  {
   "cell_type": "code",
   "execution_count": null,
   "metadata": {},
   "outputs": [],
   "source": [
    "list_transaksi=[[\"WAJAN\"]]\n",
    "inside_list = [\"TAPISAN\"]\n",
    "for i in range(2,len(df)):\n",
    "    if df[\"No.Transaksi\"][i] == df[\"No.Transaksi\"][i-1]:\n",
    "        inside_list.append(df[\"Kategori Produk\"][i])\n",
    "    else:\n",
    "        inside_list = list(set(inside_list))\n",
    "        list_transaksi.append(inside_list)\n",
    "        inside_list = []\n",
    "        inside_list.append(df[\"Kategori Produk\"][i])"
   ]
  },
  {
   "cell_type": "markdown",
   "metadata": {},
   "source": [
    "Encoding data menjadi dataframe boolean"
   ]
  },
  {
   "cell_type": "code",
   "execution_count": null,
   "metadata": {},
   "outputs": [],
   "source": [
    "te = TransactionEncoder()\n",
    "te_ary = te.fit(list_transaksi).transform(list_transaksi)\n",
    "df_transaksi = pd.DataFrame(te_ary, columns=te.columns_)\n",
    "df_transaksi"
   ]
  },
  {
   "cell_type": "markdown",
   "metadata": {},
   "source": [
    "Eksekusi algoritma fpgrowth dengan batas support minimum 0.3"
   ]
  },
  {
   "cell_type": "code",
   "execution_count": null,
   "metadata": {},
   "outputs": [],
   "source": [
    "df_fpg = fpgrowth(df_transaksi, min_support=0.03, use_colnames=True)"
   ]
  },
  {
   "cell_type": "code",
   "execution_count": null,
   "metadata": {},
   "outputs": [],
   "source": [
    "df_fpg_2 = pd.DataFrame(df_fpg['itemsets'].values.tolist(), index=df_fpg.index)\n",
    "mask = df_fpg_2.astype(str).isin([\"KOMPOR\",\"SELANG\",\"KRJG\",\"WADAH\",\"LOYANG\"]).any(axis=1)\n",
    "df_fpg[mask]"
   ]
  },
  {
   "cell_type": "markdown",
   "metadata": {},
   "source": [
    "Perhitungan support, confidence, dan lift"
   ]
  },
  {
   "cell_type": "code",
   "execution_count": null,
   "metadata": {},
   "outputs": [],
   "source": [
    "df_fpg_3 = pd.DataFrame({\"Hubungan\": [\"Kompor->Selang\", \"Selang->Kompor\", \"Krjg->Loyang\", \"Loyang->Krjg\",\"Loyang->Wadah\",\"Wadah->Loyang\"],\n",
    "                        \"Support\":[0.03,0.03,0.04,0.04,0.03,0.03], \"Confidence\":[0.03/0.07,0.03/0.06,0.04/0.09,0.04/0.12,0.03/0.12,0.03/0.11],\n",
    "                        \"Lift\":[0.03/(0.06*0.07),0.03/(0.06*0.07),0.04/(0.09*0.12),0.04/(0.09*0.12),0.03/(0.12*0.11),0.03/(0.12*0.11)]})\n",
    "df_fpg_3"
   ]
  },
  {
   "cell_type": "markdown",
   "metadata": {},
   "source": [
    "Perhitungan signifikansi kontribusi pendapatan dari produk dengan asosiasi tinggi"
   ]
  },
  {
   "cell_type": "code",
   "execution_count": null,
   "metadata": {},
   "outputs": [],
   "source": [
    "df_kategori_produk = df[df[\"Kategori Produk\"].isin([\"KOMPOR\",\"LOYANG\",\"SELANG\",\"KRJG\",\"WADAH\"])].groupby(\"Kategori Produk\")[\"DPP\"].sum()\n",
    "df_kategori_produk = pd.DataFrame(df_kategori_produk).reset_index()\n",
    "df_kategori_produk['Persentase DPP'] = df_kategori_produk[\"DPP\"]/df[\"DPP\"].sum()\n",
    "df_kategori_produk"
   ]
  },
  {
   "cell_type": "code",
   "execution_count": null,
   "metadata": {},
   "outputs": [],
   "source": [
    "df_kategori_produk2 = df.groupby(\"Kategori Produk\")[\"DPP\"].sum().sort_values(ascending=False)\n",
    "df_kategori_produk2 = pd.DataFrame(df_kategori_produk2).reset_index()\n",
    "df_kategori_produk2['Persentase DPP'] = df_kategori_produk2[\"DPP\"]/df[\"DPP\"].sum()\n",
    "df_kategori_produk2[\"DPP Kumulatif\"] = df_kategori_produk2[\"DPP\"].cumsum()/df_kategori_produk2[\"DPP\"].sum()*100\n",
    "df_kategori_produk2"
   ]
  },
  {
   "cell_type": "code",
   "execution_count": null,
   "metadata": {},
   "outputs": [],
   "source": [
    "del df_kategori_produk2, df_kategori_produk, df_fpg_3, df_fpg_2, df_fpg"
   ]
  }
 ],
 "metadata": {
  "kernelspec": {
   "display_name": "Python 3",
   "language": "python",
   "name": "python3"
  },
  "language_info": {
   "codemirror_mode": {
    "name": "ipython",
    "version": 3
   },
   "file_extension": ".py",
   "mimetype": "text/x-python",
   "name": "python",
   "nbconvert_exporter": "python",
   "pygments_lexer": "ipython3",
   "version": "3.7.3"
  },
  "toc": {
   "base_numbering": 1,
   "nav_menu": {},
   "number_sections": true,
   "sideBar": true,
   "skip_h1_title": false,
   "title_cell": "Table of Contents",
   "title_sidebar": "Contents",
   "toc_cell": false,
   "toc_position": {},
   "toc_section_display": true,
   "toc_window_display": false
  },
  "varInspector": {
   "cols": {
    "lenName": 16,
    "lenType": 16,
    "lenVar": 40
   },
   "kernels_config": {
    "python": {
     "delete_cmd_postfix": "",
     "delete_cmd_prefix": "del ",
     "library": "var_list.py",
     "varRefreshCmd": "print(var_dic_list())"
    },
    "r": {
     "delete_cmd_postfix": ") ",
     "delete_cmd_prefix": "rm(",
     "library": "var_list.r",
     "varRefreshCmd": "cat(var_dic_list()) "
    }
   },
   "oldHeight": 122.50033400000001,
   "position": {
    "height": "40px",
    "left": "530px",
    "right": "20px",
    "top": "120px",
    "width": "250px"
   },
   "types_to_exclude": [
    "module",
    "function",
    "builtin_function_or_method",
    "instance",
    "_Feature"
   ],
   "varInspector_section_display": "none",
   "window_display": true
  }
 },
 "nbformat": 4,
 "nbformat_minor": 2
}

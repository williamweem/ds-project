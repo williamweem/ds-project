{
  "nbformat": 4,
  "nbformat_minor": 0,
  "metadata": {
    "kernelspec": {
      "display_name": "Python 3",
      "language": "python",
      "name": "python3"
    },
    "language_info": {
      "codemirror_mode": {
        "name": "ipython",
        "version": 3
      },
      "file_extension": ".py",
      "mimetype": "text/x-python",
      "name": "python",
      "nbconvert_exporter": "python",
      "pygments_lexer": "ipython3",
      "version": "3.7.3"
    },
    "toc": {
      "base_numbering": 1,
      "nav_menu": {},
      "number_sections": true,
      "sideBar": true,
      "skip_h1_title": false,
      "title_cell": "Table of Contents",
      "title_sidebar": "Contents",
      "toc_cell": false,
      "toc_position": {},
      "toc_section_display": true,
      "toc_window_display": false
    },
    "colab": {
      "name": "Ujian Dicoding.ipynb",
      "provenance": [],
      "collapsed_sections": [],
      "include_colab_link": true
    }
  },
  "cells": [
    {
      "cell_type": "markdown",
      "metadata": {
        "id": "view-in-github",
        "colab_type": "text"
      },
      "source": [
        "<a href=\"https://colab.research.google.com/github/williamweem/one-notebook-ds-project/blob/master/Ujian_Dicoding.ipynb\" target=\"_parent\"><img src=\"https://colab.research.google.com/assets/colab-badge.svg\" alt=\"Open In Colab\"/></a>"
      ]
    },
    {
      "cell_type": "markdown",
      "metadata": {
        "id": "ihUDercflEKq",
        "colab_type": "text"
      },
      "source": [
        "<a href=\"https://drive.google.com/file/d/17QRz8aXbotrKXzuRBsFxhoXBNlMdm_mP/view?usp=sharing\" target=\"_blank\"><img src=\"https://colab.research.google.com/assets/colab-badge.svg\" alt=\"Open In Colab\"/></a>"
      ]
    },
    {
      "cell_type": "code",
      "metadata": {
        "id": "pHaloo-7hP6t",
        "colab_type": "code",
        "colab": {}
      },
      "source": [
        "import pandas as pd\n",
        "import numpy as np\n",
        "import matplotlib.pyplot as plt\n",
        "import seaborn as sns\n",
        "import os\n",
        "import zipfile\n",
        "import time\n",
        "from google.colab import files\n",
        "import tensorflow as tf\n",
        "from tensorflow.keras.callbacks import ModelCheckpoint\n",
        "\n",
        "import tensorflow as tf"
      ],
      "execution_count": 0,
      "outputs": []
    },
    {
      "cell_type": "code",
      "metadata": {
        "id": "hWPTV6XGhP60",
        "colab_type": "code",
        "colab": {}
      },
      "source": [
        "!wget --no-check-certificate  \\\n",
        " https://dicodingacademy.blob.core.windows.net/picodiploma/ml_pemula_academy/rockpaperscissors.zip \\\n",
        " -O /tmp/rockpaperscissors.zip\n",
        "\n",
        "\n",
        "local_zip = \"/tmp/rockpaperscissors.zip\"\n",
        "zip_ref = zipfile.ZipFile(local_zip, 'r')\n",
        "zip_ref.extractall('/tmp')\n",
        "zip_ref.close()"
      ],
      "execution_count": 0,
      "outputs": []
    },
    {
      "cell_type": "code",
      "metadata": {
        "id": "fXZ99_Y9hP69",
        "colab_type": "code",
        "colab": {}
      },
      "source": [
        "def to_label(value):\n",
        "    if all(value==[1.,0.,0.]):\n",
        "        return 'paper'\n",
        "    elif all(value==[0.,1.,0.]):\n",
        "        return \"rock\"\n",
        "    else:\n",
        "        return 'scissors'\n",
        "\n",
        "def plots(ims, figsize=(24,12), rows=4, interp=False, titles=None):\n",
        "    f = plt.figure(figsize=figsize)\n",
        "    cols = len(ims)//rows if len(ims) % 2 == 0 else len(ims)//rows + 1\n",
        "    for i in range(len(ims)):\n",
        "        sp = f.add_subplot(rows, cols, i+1)\n",
        "        sp.axis('Off')\n",
        "        if titles is not None:\n",
        "            sp.set_title(titles[i], fontsize=20)\n",
        "        plt.imshow(ims[i], interpolation=None if interp else 'none')\n",
        "\n",
        "def plot_accuracy(history,title):\n",
        "    plt.title(title)\n",
        "    plt.plot(history.history.history['accuracy'])\n",
        "    plt.plot(history.history.history['val_accuracy'])\n",
        "    plt.ylabel('accuracy')\n",
        "    plt.xlabel('epoch')\n",
        "    plt.legend(['train_accuracy', 'validation_accuracy'], loc='best')\n",
        "    plt.show()\n",
        "\n",
        "def plot_loss(history,title):\n",
        "    plt.title(title)\n",
        "    plt.plot(history.history.history['loss'])\n",
        "    plt.plot(history.history.history['val_loss'])\n",
        "    plt.ylabel('loss')\n",
        "    plt.xlabel('epoch')\n",
        "    plt.legend(['train_loss', 'validation_loss'], loc='best')\n",
        "    plt.show()"
      ],
      "execution_count": 0,
      "outputs": []
    },
    {
      "cell_type": "code",
      "metadata": {
        "id": "xEvcmgdthP7A",
        "colab_type": "code",
        "colab": {}
      },
      "source": [
        "batch_size = 20\n",
        "nbr_epochs = 10\n",
        "classnames = ['paper', 'rock', 'scissors']\n",
        "root_dir = '/tmp/rockpaperscissors'"
      ],
      "execution_count": 0,
      "outputs": []
    },
    {
      "cell_type": "code",
      "metadata": {
        "id": "v29gVTr3hP7N",
        "colab_type": "code",
        "colab": {}
      },
      "source": [
        "train_datagen = tf.keras.preprocessing.image.ImageDataGenerator(\n",
        "    rescale = 1./255,\n",
        "    rotation_range = 20,\n",
        "    horizontal_flip = True,\n",
        "    shear_range = 0.2,\n",
        "    fill_mode = \"nearest\",\n",
        "    validation_split = 0.2\n",
        ")\n",
        "\n",
        "test_datagen = tf.keras.preprocessing.image.ImageDataGenerator(\n",
        "    rescale = 1./255,\n",
        "    rotation_range = 20,\n",
        "    horizontal_flip = True,\n",
        "    shear_range = 0.2,\n",
        "    fill_mode = \"nearest\"\n",
        ")"
      ],
      "execution_count": 0,
      "outputs": []
    },
    {
      "cell_type": "code",
      "metadata": {
        "id": "mS0gD2tdhP7Q",
        "colab_type": "code",
        "colab": {}
      },
      "source": [
        "train_generator = train_datagen.flow_from_directory(\n",
        "    root_dir,\n",
        "    target_size = (200,200),\n",
        "    batch_size = batch_size,\n",
        "    class_mode = \"categorical\",\n",
        "    shuffle = True,\n",
        "    subset = \"training\",\n",
        "    classes = classnames)\n",
        "\n",
        "val_generator = train_datagen.flow_from_directory(\n",
        "    root_dir,\n",
        "    target_size = (200,200),\n",
        "    batch_size = batch_size,\n",
        "    class_mode = \"categorical\",\n",
        "    shuffle=True,\n",
        "    subset=\"validation\",\n",
        "    classes = classnames)\n",
        "\n",
        "test_generator = test_datagen.flow_from_directory(\n",
        "    root_dir,\n",
        "    target_size = (200,200),\n",
        "    batch_size = batch_size,\n",
        "    class_mode = \"categorical\",\n",
        "    shuffle=True,\n",
        "    classes = classnames)"
      ],
      "execution_count": 0,
      "outputs": []
    },
    {
      "cell_type": "code",
      "metadata": {
        "id": "P-m1l4x-T8hw",
        "colab_type": "code",
        "colab": {}
      },
      "source": [
        "imgs, labels = next(train_generator)\n",
        "imgs_label = list(map(to_label,labels))\n",
        "plots(imgs, titles=imgs_label)"
      ],
      "execution_count": 0,
      "outputs": []
    },
    {
      "cell_type": "code",
      "metadata": {
        "id": "4gcVbdQphP7q",
        "colab_type": "code",
        "colab": {}
      },
      "source": [
        "model = tf.keras.Sequential([\n",
        "  tf.keras.layers.Conv2D(32, (3,3), activation='relu', input_shape=(200,200,3)),\n",
        "  tf.keras.layers.MaxPool2D(2,2),\n",
        "  tf.keras.layers.Conv2D(64, (3,3), activation=\"relu\"),\n",
        "  tf.keras.layers.MaxPool2D(2,2),\n",
        "  tf.keras.layers.Conv2D(128, (3,3), activation=\"relu\"),\n",
        "  tf.keras.layers.MaxPool2D(2,2),\n",
        "  tf.keras.layers.Flatten(),\n",
        "  tf.keras.layers.Dense(128, activation='relu'),\n",
        "  tf.keras.layers.Dropout(0.25),\n",
        "  tf.keras.layers.Dense(3, activation=\"softmax\")\n",
        "])\n",
        "\n",
        "model.compile(\n",
        "    loss = 'categorical_crossentropy',\n",
        "    optimizer = tf.keras.optimizers.Adam(),\n",
        "    metrics = [\"accuracy\"]\n",
        ")"
      ],
      "execution_count": 0,
      "outputs": []
    },
    {
      "cell_type": "code",
      "metadata": {
        "id": "eN2EDbP4K3Ht",
        "colab_type": "code",
        "colab": {}
      },
      "source": [
        "model.summary()"
      ],
      "execution_count": 0,
      "outputs": []
    },
    {
      "cell_type": "code",
      "metadata": {
        "id": "C-8NlDJFhP74",
        "colab_type": "code",
        "colab": {}
      },
      "source": [
        "ts = time.time()\n",
        "\n",
        "best_model_filename = 'weights.h5'   \n",
        "best_model = ModelCheckpoint(best_model_filename, monitor='val_accuracy', verbose=1, save_best_only=True)\n",
        "\n",
        "model.fit(\n",
        "    train_generator,\n",
        "    steps_per_epoch = train_generator.samples//batch_size,\n",
        "    epochs = nbr_epochs,\n",
        "    validation_data = val_generator,\n",
        "    validation_steps = val_generator.samples//batch_size,\n",
        "    callbacks = best_model\n",
        ")\n",
        "\n",
        "time.time() - ts"
      ],
      "execution_count": 0,
      "outputs": []
    },
    {
      "cell_type": "code",
      "metadata": {
        "id": "Y3NShw-LhP77",
        "colab_type": "code",
        "colab": {}
      },
      "source": [
        "plot_accuracy(model,'CNN')\n",
        "plot_loss(model,'CNN')"
      ],
      "execution_count": 0,
      "outputs": []
    },
    {
      "cell_type": "code",
      "metadata": {
        "id": "MIzyljPrULY7",
        "colab_type": "code",
        "colab": {}
      },
      "source": [
        "test_imgs, test_labels = next(test_generator)\n",
        "predictions = model.predict(test_imgs)\n",
        "\n",
        "df = pd.DataFrame()\n",
        "df['actual'] = np.apply_along_axis(to_label, 1, test_labels)\n",
        "df['predicted'] = np.apply_along_axis(to_label, 1, np.apply_along_axis(np.round, 1, predictions))\n",
        "test_imgs = np.array(test_imgs).astype(np.uint8)\n",
        "plots(test_imgs, titles=df['predicted'])"
      ],
      "execution_count": 0,
      "outputs": []
    },
    {
      "cell_type": "code",
      "metadata": {
        "id": "KSLY8qL8hP8b",
        "colab_type": "code",
        "colab": {}
      },
      "source": [
        "uploaded = files.upload()\n",
        " \n",
        "for fn in uploaded.keys():\n",
        " \n",
        "    # predicting images\n",
        "    path = fn\n",
        "    img = tf.keras.preprocessing.image.load_img(path, target_size=(200,200))\n",
        "    imgplot = plt.imshow(img)\n",
        "    x = tf.keras.preprocessing.image.img_to_array(img)\n",
        "    x = np.expand_dims(x, axis=0)\n",
        "    classes = model.predict(x, batch_size=10)\n",
        "    print(np.apply_along_axis(to_label, 1, classes)[0])"
      ],
      "execution_count": 0,
      "outputs": []
    }
  ]
}